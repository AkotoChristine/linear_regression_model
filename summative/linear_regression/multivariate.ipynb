{
 "cells": [
  {
   "cell_type": "markdown",
   "metadata": {},
   "source": [
    "## Building a Period Prediction Linear Regression Model\n",
    "\n",
    "This notebook demonstrates the process of building a linear regression model to predict menstrual cycle periods.\n",
    "\n",
    "**Dataset:** \n",
    "The dataset used in this analysis was obtained from Kaggle\n",
    "#### Purpose\n",
    "With this, girls can predict their next period, stand out without what if? and now the changes that goes on in their bodies \n"
   ]
  },
  {
   "cell_type": "code",
   "execution_count": 1,
   "metadata": {},
   "outputs": [],
   "source": [
    "#importing EDA libraries \n",
    "import numpy as np\n",
    "import matplotlib.pyplot as plt\n",
    "import seaborn as sns\n",
    "import pandas as pd\n",
    "\n",
    "#import Ml libraries \n",
    "\n",
    "from sklearn.linear_model import LinearRegression\n",
    "from sklearn.tree import DecisionTreeRegressor\n",
    "from sklearn.ensemble import RandomForestRegressor\n",
    "from sklearn.metrics import r2_score, mean_squared_error\n",
    "from sklearn.model_selection import train_test_split\n"
   ]
  },
  {
   "cell_type": "code",
   "execution_count": 2,
   "metadata": {},
   "outputs": [],
   "source": [
    "#importing dataset\n",
    "\n",
    "data = pd.read_csv(\"menstrual_tracking_data.csv\")"
   ]
  },
  {
   "cell_type": "markdown",
   "metadata": {},
   "source": [
    "## EXPLORING THE DATASET"
   ]
  },
  {
   "cell_type": "code",
   "execution_count": 3,
   "metadata": {},
   "outputs": [
    {
     "data": {
      "text/html": [
       "<div>\n",
       "<style scoped>\n",
       "    .dataframe tbody tr th:only-of-type {\n",
       "        vertical-align: middle;\n",
       "    }\n",
       "\n",
       "    .dataframe tbody tr th {\n",
       "        vertical-align: top;\n",
       "    }\n",
       "\n",
       "    .dataframe thead th {\n",
       "        text-align: right;\n",
       "    }\n",
       "</style>\n",
       "<table border=\"1\" class=\"dataframe\">\n",
       "  <thead>\n",
       "    <tr style=\"text-align: right;\">\n",
       "      <th></th>\n",
       "      <th>user_id</th>\n",
       "      <th>login_date</th>\n",
       "      <th>cycle_length</th>\n",
       "      <th>period_duration</th>\n",
       "      <th>symptoms</th>\n",
       "      <th>nextperiod_date</th>\n",
       "    </tr>\n",
       "  </thead>\n",
       "  <tbody>\n",
       "    <tr>\n",
       "      <th>0</th>\n",
       "      <td>1</td>\n",
       "      <td>8/18/2023</td>\n",
       "      <td>27</td>\n",
       "      <td>4</td>\n",
       "      <td>bloating, fatigue, acne</td>\n",
       "      <td>9/14/2023</td>\n",
       "    </tr>\n",
       "    <tr>\n",
       "      <th>1</th>\n",
       "      <td>2</td>\n",
       "      <td>7/8/2023</td>\n",
       "      <td>24</td>\n",
       "      <td>3</td>\n",
       "      <td>acne, bloating</td>\n",
       "      <td>8/1/2023</td>\n",
       "    </tr>\n",
       "    <tr>\n",
       "      <th>2</th>\n",
       "      <td>3</td>\n",
       "      <td>3/1/2023</td>\n",
       "      <td>33</td>\n",
       "      <td>7</td>\n",
       "      <td>cramps, bloating</td>\n",
       "      <td>4/3/2023</td>\n",
       "    </tr>\n",
       "    <tr>\n",
       "      <th>3</th>\n",
       "      <td>4</td>\n",
       "      <td>9/5/2023</td>\n",
       "      <td>35</td>\n",
       "      <td>6</td>\n",
       "      <td>bloating, cramps, fatigue</td>\n",
       "      <td>10/10/2023</td>\n",
       "    </tr>\n",
       "    <tr>\n",
       "      <th>4</th>\n",
       "      <td>5</td>\n",
       "      <td>6/2/2023</td>\n",
       "      <td>31</td>\n",
       "      <td>4</td>\n",
       "      <td>fatigue</td>\n",
       "      <td>7/3/2023</td>\n",
       "    </tr>\n",
       "  </tbody>\n",
       "</table>\n",
       "</div>"
      ],
      "text/plain": [
       "   user_id login_date  cycle_length  period_duration  \\\n",
       "0        1  8/18/2023            27                4   \n",
       "1        2   7/8/2023            24                3   \n",
       "2        3   3/1/2023            33                7   \n",
       "3        4   9/5/2023            35                6   \n",
       "4        5   6/2/2023            31                4   \n",
       "\n",
       "                    symptoms nextperiod_date  \n",
       "0    bloating, fatigue, acne       9/14/2023  \n",
       "1             acne, bloating        8/1/2023  \n",
       "2           cramps, bloating        4/3/2023  \n",
       "3  bloating, cramps, fatigue      10/10/2023  \n",
       "4                    fatigue        7/3/2023  "
      ]
     },
     "execution_count": 3,
     "metadata": {},
     "output_type": "execute_result"
    }
   ],
   "source": [
    "#displaying the first 5 rows\n",
    "data.head(5)"
   ]
  },
  {
   "cell_type": "code",
   "execution_count": 4,
   "metadata": {},
   "outputs": [
    {
     "data": {
      "text/plain": [
       "Index(['user_id', 'login_date', 'cycle_length', 'period_duration', 'symptoms',\n",
       "       'nextperiod_date'],\n",
       "      dtype='object')"
      ]
     },
     "execution_count": 4,
     "metadata": {},
     "output_type": "execute_result"
    }
   ],
   "source": [
    "#displaying the column names\n",
    "data.columns"
   ]
  },
  {
   "cell_type": "code",
   "execution_count": 5,
   "metadata": {},
   "outputs": [
    {
     "name": "stdout",
     "output_type": "stream",
     "text": [
      "<class 'pandas.core.frame.DataFrame'>\n",
      "RangeIndex: 500 entries, 0 to 499\n",
      "Data columns (total 6 columns):\n",
      " #   Column           Non-Null Count  Dtype \n",
      "---  ------           --------------  ----- \n",
      " 0   user_id          500 non-null    int64 \n",
      " 1   login_date       500 non-null    object\n",
      " 2   cycle_length     500 non-null    int64 \n",
      " 3   period_duration  500 non-null    int64 \n",
      " 4   symptoms         500 non-null    object\n",
      " 5   nextperiod_date  500 non-null    object\n",
      "dtypes: int64(3), object(3)\n",
      "memory usage: 23.6+ KB\n"
     ]
    },
    {
     "data": {
      "text/plain": [
       "(500, 6)"
      ]
     },
     "execution_count": 5,
     "metadata": {},
     "output_type": "execute_result"
    }
   ],
   "source": [
    "#information about the dataset\n",
    "data.info()\n",
    "data.shape"
   ]
  },
  {
   "cell_type": "code",
   "execution_count": 6,
   "metadata": {},
   "outputs": [
    {
     "data": {
      "text/html": [
       "<div>\n",
       "<style scoped>\n",
       "    .dataframe tbody tr th:only-of-type {\n",
       "        vertical-align: middle;\n",
       "    }\n",
       "\n",
       "    .dataframe tbody tr th {\n",
       "        vertical-align: top;\n",
       "    }\n",
       "\n",
       "    .dataframe thead th {\n",
       "        text-align: right;\n",
       "    }\n",
       "</style>\n",
       "<table border=\"1\" class=\"dataframe\">\n",
       "  <thead>\n",
       "    <tr style=\"text-align: right;\">\n",
       "      <th></th>\n",
       "      <th>user_id</th>\n",
       "      <th>cycle_length</th>\n",
       "      <th>period_duration</th>\n",
       "    </tr>\n",
       "  </thead>\n",
       "  <tbody>\n",
       "    <tr>\n",
       "      <th>count</th>\n",
       "      <td>500.000000</td>\n",
       "      <td>500.000000</td>\n",
       "      <td>500.000000</td>\n",
       "    </tr>\n",
       "    <tr>\n",
       "      <th>mean</th>\n",
       "      <td>250.500000</td>\n",
       "      <td>27.846000</td>\n",
       "      <td>5.032000</td>\n",
       "    </tr>\n",
       "    <tr>\n",
       "      <th>std</th>\n",
       "      <td>144.481833</td>\n",
       "      <td>4.367199</td>\n",
       "      <td>1.461248</td>\n",
       "    </tr>\n",
       "    <tr>\n",
       "      <th>min</th>\n",
       "      <td>1.000000</td>\n",
       "      <td>21.000000</td>\n",
       "      <td>3.000000</td>\n",
       "    </tr>\n",
       "    <tr>\n",
       "      <th>25%</th>\n",
       "      <td>125.750000</td>\n",
       "      <td>24.000000</td>\n",
       "      <td>4.000000</td>\n",
       "    </tr>\n",
       "    <tr>\n",
       "      <th>50%</th>\n",
       "      <td>250.500000</td>\n",
       "      <td>28.000000</td>\n",
       "      <td>5.000000</td>\n",
       "    </tr>\n",
       "    <tr>\n",
       "      <th>75%</th>\n",
       "      <td>375.250000</td>\n",
       "      <td>32.000000</td>\n",
       "      <td>6.000000</td>\n",
       "    </tr>\n",
       "    <tr>\n",
       "      <th>max</th>\n",
       "      <td>500.000000</td>\n",
       "      <td>35.000000</td>\n",
       "      <td>7.000000</td>\n",
       "    </tr>\n",
       "  </tbody>\n",
       "</table>\n",
       "</div>"
      ],
      "text/plain": [
       "          user_id  cycle_length  period_duration\n",
       "count  500.000000    500.000000       500.000000\n",
       "mean   250.500000     27.846000         5.032000\n",
       "std    144.481833      4.367199         1.461248\n",
       "min      1.000000     21.000000         3.000000\n",
       "25%    125.750000     24.000000         4.000000\n",
       "50%    250.500000     28.000000         5.000000\n",
       "75%    375.250000     32.000000         6.000000\n",
       "max    500.000000     35.000000         7.000000"
      ]
     },
     "execution_count": 6,
     "metadata": {},
     "output_type": "execute_result"
    }
   ],
   "source": [
    "#describing numerical values \n",
    "data.describe()"
   ]
  },
  {
   "cell_type": "code",
   "execution_count": 7,
   "metadata": {},
   "outputs": [
    {
     "data": {
      "text/html": [
       "<div>\n",
       "<style scoped>\n",
       "    .dataframe tbody tr th:only-of-type {\n",
       "        vertical-align: middle;\n",
       "    }\n",
       "\n",
       "    .dataframe tbody tr th {\n",
       "        vertical-align: top;\n",
       "    }\n",
       "\n",
       "    .dataframe thead th {\n",
       "        text-align: right;\n",
       "    }\n",
       "</style>\n",
       "<table border=\"1\" class=\"dataframe\">\n",
       "  <thead>\n",
       "    <tr style=\"text-align: right;\">\n",
       "      <th></th>\n",
       "      <th>login_date</th>\n",
       "      <th>symptoms</th>\n",
       "      <th>nextperiod_date</th>\n",
       "    </tr>\n",
       "  </thead>\n",
       "  <tbody>\n",
       "    <tr>\n",
       "      <th>count</th>\n",
       "      <td>500</td>\n",
       "      <td>500</td>\n",
       "      <td>500</td>\n",
       "    </tr>\n",
       "    <tr>\n",
       "      <th>unique</th>\n",
       "      <td>359</td>\n",
       "      <td>128</td>\n",
       "      <td>358</td>\n",
       "    </tr>\n",
       "    <tr>\n",
       "      <th>top</th>\n",
       "      <td>9/8/2023</td>\n",
       "      <td>acne</td>\n",
       "      <td>9/29/2023</td>\n",
       "    </tr>\n",
       "    <tr>\n",
       "      <th>freq</th>\n",
       "      <td>5</td>\n",
       "      <td>32</td>\n",
       "      <td>4</td>\n",
       "    </tr>\n",
       "  </tbody>\n",
       "</table>\n",
       "</div>"
      ],
      "text/plain": [
       "       login_date symptoms nextperiod_date\n",
       "count         500      500             500\n",
       "unique        359      128             358\n",
       "top      9/8/2023     acne       9/29/2023\n",
       "freq            5       32               4"
      ]
     },
     "execution_count": 7,
     "metadata": {},
     "output_type": "execute_result"
    }
   ],
   "source": [
    "#describing non-numerical values \n",
    "data.describe(include='O')"
   ]
  },
  {
   "cell_type": "code",
   "execution_count": 8,
   "metadata": {},
   "outputs": [
    {
     "data": {
      "text/plain": [
       "user_id            0\n",
       "login_date         0\n",
       "cycle_length       0\n",
       "period_duration    0\n",
       "symptoms           0\n",
       "nextperiod_date    0\n",
       "dtype: int64"
      ]
     },
     "execution_count": 8,
     "metadata": {},
     "output_type": "execute_result"
    }
   ],
   "source": [
    "#checking for null values \n",
    "data.isnull()\n",
    "data.isnull().sum()\n",
    "##"
   ]
  },
  {
   "cell_type": "code",
   "execution_count": 9,
   "metadata": {},
   "outputs": [
    {
     "data": {
      "text/plain": [
       "cycle_length    35\n",
       "dtype: int64"
      ]
     },
     "execution_count": 9,
     "metadata": {},
     "output_type": "execute_result"
    }
   ],
   "source": [
    "#checking the next period date\n",
    "data[[\"cycle_length\"]].max()"
   ]
  },
  {
   "cell_type": "code",
   "execution_count": 10,
   "metadata": {},
   "outputs": [
    {
     "data": {
      "text/plain": [
       "user_id             int64\n",
       "login_date         object\n",
       "cycle_length        int64\n",
       "period_duration     int64\n",
       "symptoms           object\n",
       "nextperiod_date    object\n",
       "dtype: object"
      ]
     },
     "execution_count": 10,
     "metadata": {},
     "output_type": "execute_result"
    }
   ],
   "source": [
    "#checking the data types\n",
    "data.dtypes"
   ]
  },
  {
   "cell_type": "code",
   "execution_count": 11,
   "metadata": {},
   "outputs": [
    {
     "data": {
      "text/plain": [
       "dtype('<M8[ns]')"
      ]
     },
     "execution_count": 11,
     "metadata": {},
     "output_type": "execute_result"
    }
   ],
   "source": [
    "data['login_date']  = pd.to_datetime(data['login_date'])\n",
    "data['nextperiod_date'] = pd.to_datetime(data['nextperiod_date'])\n",
    "\n",
    "data['login_date'].dtypes"
   ]
  },
  {
   "cell_type": "code",
   "execution_count": 12,
   "metadata": {},
   "outputs": [
    {
     "data": {
      "text/plain": [
       "15"
      ]
     },
     "execution_count": 12,
     "metadata": {},
     "output_type": "execute_result"
    }
   ],
   "source": [
    "#checking for unique values\n",
    "data['cycle_length'].nunique()"
   ]
  },
  {
   "cell_type": "code",
   "execution_count": 13,
   "metadata": {},
   "outputs": [
    {
     "data": {
      "text/plain": [
       "359"
      ]
     },
     "execution_count": 13,
     "metadata": {},
     "output_type": "execute_result"
    }
   ],
   "source": [
    "#checking for unique values\n",
    "data['login_date'].nunique()"
   ]
  },
  {
   "cell_type": "code",
   "execution_count": 14,
   "metadata": {},
   "outputs": [
    {
     "data": {
      "text/plain": [
       "358"
      ]
     },
     "execution_count": 14,
     "metadata": {},
     "output_type": "execute_result"
    }
   ],
   "source": [
    "#checking for unique values\n",
    "data['nextperiod_date'].nunique()"
   ]
  },
  {
   "cell_type": "code",
   "execution_count": 15,
   "metadata": {},
   "outputs": [
    {
     "data": {
      "text/plain": [
       "<bound method DataFrame.value_counts of      user_id login_date  cycle_length  period_duration  \\\n",
       "0          1 2023-08-18            27                4   \n",
       "1          2 2023-07-08            24                3   \n",
       "2          3 2023-03-01            33                7   \n",
       "3          4 2023-09-05            35                6   \n",
       "4          5 2023-06-02            31                4   \n",
       "..       ...        ...           ...              ...   \n",
       "495      496 2022-09-25            33                4   \n",
       "496      497 2023-10-17            30                6   \n",
       "497      498 2023-07-25            27                4   \n",
       "498      499 2023-05-04            30                3   \n",
       "499      500 2023-06-22            23                6   \n",
       "\n",
       "                          symptoms nextperiod_date  \n",
       "0          bloating, fatigue, acne      2023-09-14  \n",
       "1                   acne, bloating      2023-08-01  \n",
       "2                 cramps, bloating      2023-04-03  \n",
       "3        bloating, cramps, fatigue      2023-10-10  \n",
       "4                          fatigue      2023-07-03  \n",
       "..                             ...             ...  \n",
       "495             headache, bloating      2022-10-28  \n",
       "496      mood swings, acne, cramps      2023-11-16  \n",
       "497                  acne, fatigue      2023-08-21  \n",
       "498         headache, acne, cramps      2023-06-03  \n",
       "499  bloating, mood swings, cramps      2023-07-15  \n",
       "\n",
       "[500 rows x 6 columns]>"
      ]
     },
     "execution_count": 15,
     "metadata": {},
     "output_type": "execute_result"
    }
   ],
   "source": [
    "data.value_counts"
   ]
  },
  {
   "cell_type": "code",
   "execution_count": 16,
   "metadata": {},
   "outputs": [],
   "source": [
    "data = data.drop(columns='symptoms')"
   ]
  },
  {
   "cell_type": "code",
   "execution_count": 17,
   "metadata": {},
   "outputs": [
    {
     "name": "stdout",
     "output_type": "stream",
     "text": [
      "     user_id login_date  cycle_length  period_duration nextperiod_date\n",
      "0          1 2023-08-18            27                4      2023-09-14\n",
      "1          2 2023-07-08            24                3      2023-08-01\n",
      "2          3 2023-03-01            33                7      2023-04-03\n",
      "3          4 2023-09-05            35                6      2023-10-10\n",
      "4          5 2023-06-02            31                4      2023-07-03\n",
      "..       ...        ...           ...              ...             ...\n",
      "495      496 2022-09-25            33                4      2022-10-28\n",
      "496      497 2023-10-17            30                6      2023-11-16\n",
      "497      498 2023-07-25            27                4      2023-08-21\n",
      "498      499 2023-05-04            30                3      2023-06-03\n",
      "499      500 2023-06-22            23                6      2023-07-15\n",
      "\n",
      "[500 rows x 5 columns]\n"
     ]
    }
   ],
   "source": [
    "corrh = data.corr()\n",
    "print(data)"
   ]
  },
  {
   "cell_type": "markdown",
   "metadata": {},
   "source": [
    "## Visualisations "
   ]
  },
  {
   "cell_type": "code",
   "execution_count": 18,
   "metadata": {},
   "outputs": [
    {
     "data": {
      "image/png": "[encoded data removed]",
      "text/plain": [
       "<Figure size 800x500 with 1 Axes>"
      ]
     },
     "metadata": {},
     "output_type": "display_data"
    }
   ],
   "source": [
    "\n",
    "# Plot target distribution\n",
    "plt.figure(figsize=(8, 5))\n",
    "sns.histplot(data['nextperiod_date'].astype(\"int64\"), kde=True)\n",
    "plt.title('Next period date distribution')\n",
    "plt.show()"
   ]
  },
  {
   "cell_type": "code",
   "execution_count": 19,
   "metadata": {},
   "outputs": [
    {
     "data": {
      "text/plain": [
       "Text(0.5, 1.0, 'correlation of the data')"
      ]
     },
     "execution_count": 19,
     "metadata": {},
     "output_type": "execute_result"
    },
    {
     "data": {
      "image/png": "[encoded data removed]",
      "text/plain": [
       "<Figure size 640x480 with 2 Axes>"
      ]
     },
     "metadata": {},
     "output_type": "display_data"
    }
   ],
   "source": [
    "sns.heatmap(corrh, annot =True)\n",
    "plt.title('correlation of the data' )"
   ]
  },
  {
   "cell_type": "code",
   "execution_count": 20,
   "metadata": {},
   "outputs": [
    {
     "data": {
      "text/plain": [
       "0"
      ]
     },
     "execution_count": 20,
     "metadata": {},
     "output_type": "execute_result"
    }
   ],
   "source": [
    "#checking for duplicates\n",
    "data.duplicated().sum()"
   ]
  },
  {
   "cell_type": "code",
   "execution_count": 21,
   "metadata": {},
   "outputs": [
    {
     "data": {
      "text/plain": [
       "<Axes: xlabel='login_date', ylabel='nextperiod_date'>"
      ]
     },
     "execution_count": 21,
     "metadata": {},
     "output_type": "execute_result"
    },
    {
     "data": {
      "image/png": "[encoded data removed]",
      "text/plain": [
       "<Figure size 640x480 with 1 Axes>"
      ]
     },
     "metadata": {},
     "output_type": "display_data"
    }
   ],
   "source": [
    "#verifying why the correlation equals 1\n",
    "x = data[\"login_date\"].astype(\"int64\")\n",
    "y = data[\"nextperiod_date\"].astype(\"int64\")\n",
    "sns.scatterplot( x = x, y =y)"
   ]
  },
  {
   "cell_type": "code",
   "execution_count": 22,
   "metadata": {},
   "outputs": [
    {
     "data": {
      "text/plain": [
       "<Axes: xlabel='cycle_length', ylabel='nextperiod_date'>"
      ]
     },
     "execution_count": 22,
     "metadata": {},
     "output_type": "execute_result"
    },
    {
     "data": {
      "image/png": "[encoded data removed]",
      "text/plain": [
       "<Figure size 640x480 with 1 Axes>"
      ]
     },
     "metadata": {},
     "output_type": "display_data"
    }
   ],
   "source": [
    "#finding the relationship between cycle_length and nextperiod_date\n",
    "\n",
    "x = data[\"cycle_length\"].astype(\"int64\")\n",
    "y = data[\"nextperiod_date\"].astype(\"int64\")\n",
    "sns.scatterplot( x = x, y =y)"
   ]
  },
  {
   "cell_type": "code",
   "execution_count": 23,
   "metadata": {},
   "outputs": [
    {
     "data": {
      "text/plain": [
       "0      1692316800\n",
       "1      1688774400\n",
       "2      1677628800\n",
       "3      1693872000\n",
       "4      1685664000\n",
       "          ...    \n",
       "495    1664064000\n",
       "496    1697500800\n",
       "497    1690243200\n",
       "498    1683158400\n",
       "499    1687392000\n",
       "Name: login_timestamp, Length: 500, dtype: int64"
      ]
     },
     "execution_count": 23,
     "metadata": {},
     "output_type": "execute_result"
    }
   ],
   "source": [
    "#adding timestamp columns \n",
    "data[\"login_timestamp\"] = pd.to_datetime(data[\"login_date\"]).astype(np.int64) // 10**9\n",
    "data['login_timestamp']\n",
    "\n",
    "data['nextperiod_timestamp'] = data[[\"nextperiod_date\"]].astype(np.int64) //10**9\n",
    "data['login_timestamp']\n",
    "\n",
    "#pd.to_datetime(data['login_timestamp'])\n"
   ]
  },
  {
   "cell_type": "code",
   "execution_count": 24,
   "metadata": {},
   "outputs": [
    {
     "data": {
      "text/html": [
       "<div>\n",
       "<style scoped>\n",
       "    .dataframe tbody tr th:only-of-type {\n",
       "        vertical-align: middle;\n",
       "    }\n",
       "\n",
       "    .dataframe tbody tr th {\n",
       "        vertical-align: top;\n",
       "    }\n",
       "\n",
       "    .dataframe thead th {\n",
       "        text-align: right;\n",
       "    }\n",
       "</style>\n",
       "<table border=\"1\" class=\"dataframe\">\n",
       "  <thead>\n",
       "    <tr style=\"text-align: right;\">\n",
       "      <th></th>\n",
       "      <th>user_id</th>\n",
       "      <th>login_date</th>\n",
       "      <th>cycle_length</th>\n",
       "      <th>period_duration</th>\n",
       "      <th>nextperiod_date</th>\n",
       "      <th>login_timestamp</th>\n",
       "      <th>nextperiod_timestamp</th>\n",
       "    </tr>\n",
       "  </thead>\n",
       "  <tbody>\n",
       "    <tr>\n",
       "      <th>0</th>\n",
       "      <td>1</td>\n",
       "      <td>2023-08-18</td>\n",
       "      <td>27</td>\n",
       "      <td>4</td>\n",
       "      <td>2023-09-14</td>\n",
       "      <td>1692316800</td>\n",
       "      <td>1694649600</td>\n",
       "    </tr>\n",
       "    <tr>\n",
       "      <th>1</th>\n",
       "      <td>2</td>\n",
       "      <td>2023-07-08</td>\n",
       "      <td>24</td>\n",
       "      <td>3</td>\n",
       "      <td>2023-08-01</td>\n",
       "      <td>1688774400</td>\n",
       "      <td>1690848000</td>\n",
       "    </tr>\n",
       "    <tr>\n",
       "      <th>2</th>\n",
       "      <td>3</td>\n",
       "      <td>2023-03-01</td>\n",
       "      <td>33</td>\n",
       "      <td>7</td>\n",
       "      <td>2023-04-03</td>\n",
       "      <td>1677628800</td>\n",
       "      <td>1680480000</td>\n",
       "    </tr>\n",
       "    <tr>\n",
       "      <th>3</th>\n",
       "      <td>4</td>\n",
       "      <td>2023-09-05</td>\n",
       "      <td>35</td>\n",
       "      <td>6</td>\n",
       "      <td>2023-10-10</td>\n",
       "      <td>1693872000</td>\n",
       "      <td>1696896000</td>\n",
       "    </tr>\n",
       "    <tr>\n",
       "      <th>4</th>\n",
       "      <td>5</td>\n",
       "      <td>2023-06-02</td>\n",
       "      <td>31</td>\n",
       "      <td>4</td>\n",
       "      <td>2023-07-03</td>\n",
       "      <td>1685664000</td>\n",
       "      <td>1688342400</td>\n",
       "    </tr>\n",
       "    <tr>\n",
       "      <th>...</th>\n",
       "      <td>...</td>\n",
       "      <td>...</td>\n",
       "      <td>...</td>\n",
       "      <td>...</td>\n",
       "      <td>...</td>\n",
       "      <td>...</td>\n",
       "      <td>...</td>\n",
       "    </tr>\n",
       "    <tr>\n",
       "      <th>495</th>\n",
       "      <td>496</td>\n",
       "      <td>2022-09-25</td>\n",
       "      <td>33</td>\n",
       "      <td>4</td>\n",
       "      <td>2022-10-28</td>\n",
       "      <td>1664064000</td>\n",
       "      <td>1666915200</td>\n",
       "    </tr>\n",
       "    <tr>\n",
       "      <th>496</th>\n",
       "      <td>497</td>\n",
       "      <td>2023-10-17</td>\n",
       "      <td>30</td>\n",
       "      <td>6</td>\n",
       "      <td>2023-11-16</td>\n",
       "      <td>1697500800</td>\n",
       "      <td>1700092800</td>\n",
       "    </tr>\n",
       "    <tr>\n",
       "      <th>497</th>\n",
       "      <td>498</td>\n",
       "      <td>2023-07-25</td>\n",
       "      <td>27</td>\n",
       "      <td>4</td>\n",
       "      <td>2023-08-21</td>\n",
       "      <td>1690243200</td>\n",
       "      <td>1692576000</td>\n",
       "    </tr>\n",
       "    <tr>\n",
       "      <th>498</th>\n",
       "      <td>499</td>\n",
       "      <td>2023-05-04</td>\n",
       "      <td>30</td>\n",
       "      <td>3</td>\n",
       "      <td>2023-06-03</td>\n",
       "      <td>1683158400</td>\n",
       "      <td>1685750400</td>\n",
       "    </tr>\n",
       "    <tr>\n",
       "      <th>499</th>\n",
       "      <td>500</td>\n",
       "      <td>2023-06-22</td>\n",
       "      <td>23</td>\n",
       "      <td>6</td>\n",
       "      <td>2023-07-15</td>\n",
       "      <td>1687392000</td>\n",
       "      <td>1689379200</td>\n",
       "    </tr>\n",
       "  </tbody>\n",
       "</table>\n",
       "<p>500 rows × 7 columns</p>\n",
       "</div>"
      ],
      "text/plain": [
       "     user_id login_date  cycle_length  period_duration nextperiod_date  \\\n",
       "0          1 2023-08-18            27                4      2023-09-14   \n",
       "1          2 2023-07-08            24                3      2023-08-01   \n",
       "2          3 2023-03-01            33                7      2023-04-03   \n",
       "3          4 2023-09-05            35                6      2023-10-10   \n",
       "4          5 2023-06-02            31                4      2023-07-03   \n",
       "..       ...        ...           ...              ...             ...   \n",
       "495      496 2022-09-25            33                4      2022-10-28   \n",
       "496      497 2023-10-17            30                6      2023-11-16   \n",
       "497      498 2023-07-25            27                4      2023-08-21   \n",
       "498      499 2023-05-04            30                3      2023-06-03   \n",
       "499      500 2023-06-22            23                6      2023-07-15   \n",
       "\n",
       "     login_timestamp  nextperiod_timestamp  \n",
       "0         1692316800            1694649600  \n",
       "1         1688774400            1690848000  \n",
       "2         1677628800            1680480000  \n",
       "3         1693872000            1696896000  \n",
       "4         1685664000            1688342400  \n",
       "..               ...                   ...  \n",
       "495       1664064000            1666915200  \n",
       "496       1697500800            1700092800  \n",
       "497       1690243200            1692576000  \n",
       "498       1683158400            1685750400  \n",
       "499       1687392000            1689379200  \n",
       "\n",
       "[500 rows x 7 columns]"
      ]
     },
     "execution_count": 24,
     "metadata": {},
     "output_type": "execute_result"
    }
   ],
   "source": [
    "data"
   ]
  },
  {
   "cell_type": "markdown",
   "metadata": {},
   "source": [
    "## X_TRAIN AND Y_TRAIN\n"
   ]
  },
  {
   "cell_type": "code",
   "execution_count": 25,
   "metadata": {},
   "outputs": [],
   "source": [
    "#finding the linear regression model\n",
    "X = data[['login_timestamp', 'cycle_length', 'period_duration']]\n",
    "Y = data['nextperiod_timestamp'].values.reshape(-1, 1)\n",
    "\n",
    "#X_train, X_test, y_train, y_test = train_test_split(X, y, test_size=0.2, random_state=42)\n",
    "\n",
    "from sklearn.model_selection import train_test_split\n",
    "X_train, X_test, Y_train, Y_test = train_test_split(X, Y, test_size=0.2, random_state=42)\n",
    "\n"
   ]
  },
  {
   "cell_type": "code",
   "execution_count": 26,
   "metadata": {},
   "outputs": [
    {
     "data": {
      "text/plain": [
       "(500, 1)"
      ]
     },
     "execution_count": 26,
     "metadata": {},
     "output_type": "execute_result"
    }
   ],
   "source": [
    "Y.shape"
   ]
  },
  {
   "cell_type": "code",
   "execution_count": 27,
   "metadata": {},
   "outputs": [
    {
     "name": "stdout",
     "output_type": "stream",
     "text": [
      "(400, 3)\n",
      "(400, 1)\n"
     ]
    }
   ],
   "source": [
    "#the data was not splitng equally so i had to do perform this step\n",
    "print(X_train.shape)\n",
    "print(Y_train.shape)\n"
   ]
  },
  {
   "cell_type": "markdown",
   "metadata": {},
   "source": [
    "## Gradient Descent "
   ]
  },
  {
   "cell_type": "code",
   "execution_count": 28,
   "metadata": {},
   "outputs": [],
   "source": [
    "#standardising the data \n",
    "from sklearn.preprocessing import StandardScaler\n",
    "scaler = StandardScaler()\n",
    "\n",
    "X_train_Scaled = scaler.fit_transform(X_train)\n",
    "X_test_Scaled = scaler.transform(X_test)\n"
   ]
  },
  {
   "cell_type": "code",
   "execution_count": 29,
   "metadata": {},
   "outputs": [
    {
     "data": {
      "image/png": "[encoded data removed]",
      "text/plain": [
       "<Figure size 640x480 with 1 Axes>"
      ]
     },
     "metadata": {},
     "output_type": "display_data"
    }
   ],
   "source": [
    "\n",
    "\n",
    "from sklearn.linear_model import SGDRegressor\n",
    "# Standardize the target\n",
    "y_scaler = StandardScaler()\n",
    "Y_train_Scaled = y_scaler.fit_transform(Y_train.reshape(-1, 1)).flatten()\n",
    "Y_test_Scaled = y_scaler.transform(Y_test.reshape(-1, 1)).flatten()\n",
    "\n",
    "# Initialize SGDRegressor with a smaller learning rate\n",
    "sgd_reg = SGDRegressor(max_iter=1000, tol=1e-6, eta0=0.0001, learning_rate='constant', random_state=42, penalty='l2', alpha=0.01)\n",
    "train_losses = []\n",
    "test_losses = []\n",
    "\n",
    "# Train and calculate losses\n",
    "for _ in range(100):\n",
    "    sgd_reg.partial_fit(X_train_Scaled, Y_train_Scaled)\n",
    "    y_train_pred = sgd_reg.predict(X_train_Scaled)\n",
    "    y_test_pred = sgd_reg.predict(X_test_Scaled)\n",
    "\n",
    "    train_losses.append(mean_squared_error(Y_train, y_scaler.inverse_transform(y_train_pred.reshape(-1, 1)).flatten()))\n",
    "    test_losses.append(mean_squared_error(Y_test, y_scaler.inverse_transform(y_test_pred.reshape(-1, 1)).flatten()))\n",
    "\n",
    "# Plot the loss curve\n",
    "plt.plot(range(1, 101), train_losses, label='Train Loss')\n",
    "plt.plot(range(1, 101), test_losses, label='Test Loss', linestyle='dashed')\n",
    "plt.xlabel('Iteration')\n",
    "plt.ylabel('Mean Squared Error')\n",
    "plt.title('Loss Curve for Gradient Descent')\n",
    "plt.legend()\n",
    "plt.show()"
   ]
  },
  {
   "cell_type": "markdown",
   "metadata": {},
   "source": [
    "# Decision Tree"
   ]
  },
  {
   "cell_type": "code",
   "execution_count": 30,
   "metadata": {},
   "outputs": [
    {
     "name": "stdout",
     "output_type": "stream",
     "text": [
      "508293.48372765904 \n",
      " 0.9992744296786144\n"
     ]
    }
   ],
   "source": [
    "from sklearn.tree import DecisionTreeRegressor\n",
    "\n",
    "DecisionTree = DecisionTreeRegressor()\n",
    "DecisionTree.fit(X_train, Y_train)\n",
    "\n",
    "y_pred_dt = DecisionTree.predict(X_test) \n",
    "\n",
    "\n",
    "mse_dt  = mean_squared_error(Y_test, y_pred_dt)\n",
    "rmse_dt = np.sqrt(mse_dt)\n",
    "r2_dt = r2_score(Y_test, y_pred_dt)\n",
    "print(rmse_dt,'\\n',r2_dt)"
   ]
  },
  {
   "cell_type": "code",
   "execution_count": 31,
   "metadata": {},
   "outputs": [
    {
     "data": {
      "text/plain": [
       "DatetimeIndex(['1970-01-01 00:00:01.693785600',\n",
       "               '1970-01-01 00:00:01.657670400',\n",
       "               '1970-01-01 00:00:01.662854400',\n",
       "               '1970-01-01 00:00:01.694476800',\n",
       "                  '1970-01-01 00:00:01.657584',\n",
       "               '1970-01-01 00:00:01.645315200',\n",
       "               '1970-01-01 00:00:01.660348800',\n",
       "               '1970-01-01 00:00:01.656115200',\n",
       "                  '1970-01-01 00:00:01.701216',\n",
       "               '1970-01-01 00:00:01.656201600',\n",
       "               '1970-01-01 00:00:01.670716800',\n",
       "               '1970-01-01 00:00:01.696723200',\n",
       "               '1970-01-01 00:00:01.657497600',\n",
       "                  '1970-01-01 00:00:01.695600',\n",
       "               '1970-01-01 00:00:01.688428800',\n",
       "               '1970-01-01 00:00:01.650326400',\n",
       "               '1970-01-01 00:00:01.665619200',\n",
       "               '1970-01-01 00:00:01.690761600',\n",
       "               '1970-01-01 00:00:01.647993600',\n",
       "                  '1970-01-01 00:00:01.665360',\n",
       "                  '1970-01-01 00:00:01.704672',\n",
       "               '1970-01-01 00:00:01.660348800',\n",
       "               '1970-01-01 00:00:01.684454400',\n",
       "               '1970-01-01 00:00:01.647907200',\n",
       "               '1970-01-01 00:00:01.698883200',\n",
       "                  '1970-01-01 00:00:01.647648',\n",
       "               '1970-01-01 00:00:01.692835200',\n",
       "               '1970-01-01 00:00:01.678665600',\n",
       "               '1970-01-01 00:00:01.667260800',\n",
       "                  '1970-01-01 00:00:01.701216',\n",
       "               '1970-01-01 00:00:01.647475200',\n",
       "               '1970-01-01 00:00:01.650844800',\n",
       "               '1970-01-01 00:00:01.668124800',\n",
       "               '1970-01-01 00:00:01.679011200',\n",
       "                  '1970-01-01 00:00:01.680048',\n",
       "               '1970-01-01 00:00:01.671321600',\n",
       "               '1970-01-01 00:00:01.681948800',\n",
       "               '1970-01-01 00:00:01.643846400',\n",
       "               '1970-01-01 00:00:01.669161600',\n",
       "               '1970-01-01 00:00:01.670198400',\n",
       "               '1970-01-01 00:00:01.646265600',\n",
       "               '1970-01-01 00:00:01.693785600',\n",
       "               '1970-01-01 00:00:01.700524800',\n",
       "               '1970-01-01 00:00:01.645833600',\n",
       "               '1970-01-01 00:00:01.670198400',\n",
       "               '1970-01-01 00:00:01.694476800',\n",
       "               '1970-01-01 00:00:01.693785600',\n",
       "               '1970-01-01 00:00:01.668297600',\n",
       "                  '1970-01-01 00:00:01.691712',\n",
       "               '1970-01-01 00:00:01.672963200',\n",
       "                  '1970-01-01 00:00:01.699488',\n",
       "               '1970-01-01 00:00:01.691020800',\n",
       "               '1970-01-01 00:00:01.647129600',\n",
       "               '1970-01-01 00:00:01.701993600',\n",
       "               '1970-01-01 00:00:01.661212800',\n",
       "               '1970-01-01 00:00:01.662854400',\n",
       "               '1970-01-01 00:00:01.691193600',\n",
       "               '1970-01-01 00:00:01.698019200',\n",
       "               '1970-01-01 00:00:01.675468800',\n",
       "               '1970-01-01 00:00:01.670198400',\n",
       "               '1970-01-01 00:00:01.651017600',\n",
       "               '1970-01-01 00:00:01.698019200',\n",
       "                  '1970-01-01 00:00:01.649808',\n",
       "                  '1970-01-01 00:00:01.663200',\n",
       "               '1970-01-01 00:00:01.670716800',\n",
       "               '1970-01-01 00:00:01.695945600',\n",
       "               '1970-01-01 00:00:01.681948800',\n",
       "               '1970-01-01 00:00:01.646092800',\n",
       "               '1970-01-01 00:00:01.679788800',\n",
       "               '1970-01-01 00:00:01.647475200',\n",
       "               '1970-01-01 00:00:01.688860800',\n",
       "               '1970-01-01 00:00:01.667865600',\n",
       "               '1970-01-01 00:00:01.667174400',\n",
       "               '1970-01-01 00:00:01.686873600',\n",
       "                  '1970-01-01 00:00:01.696896',\n",
       "               '1970-01-01 00:00:01.684454400',\n",
       "                  '1970-01-01 00:00:01.691712',\n",
       "               '1970-01-01 00:00:01.702857600',\n",
       "               '1970-01-01 00:00:01.669334400',\n",
       "               '1970-01-01 00:00:01.686182400',\n",
       "               '1970-01-01 00:00:01.660435200',\n",
       "               '1970-01-01 00:00:01.691020800',\n",
       "               '1970-01-01 00:00:01.671321600',\n",
       "               '1970-01-01 00:00:01.654387200',\n",
       "               '1970-01-01 00:00:01.651017600',\n",
       "               '1970-01-01 00:00:01.675468800',\n",
       "               '1970-01-01 00:00:01.643846400',\n",
       "               '1970-01-01 00:00:01.698278400',\n",
       "               '1970-01-01 00:00:01.647993600',\n",
       "               '1970-01-01 00:00:01.670025600',\n",
       "                  '1970-01-01 00:00:01.643328',\n",
       "               '1970-01-01 00:00:01.688515200',\n",
       "               '1970-01-01 00:00:01.704326400',\n",
       "               '1970-01-01 00:00:01.668124800',\n",
       "                  '1970-01-01 00:00:01.663200',\n",
       "               '1970-01-01 00:00:01.676764800',\n",
       "               '1970-01-01 00:00:01.693353600',\n",
       "                  '1970-01-01 00:00:01.657584',\n",
       "               '1970-01-01 00:00:01.648166400',\n",
       "                  '1970-01-01 00:00:01.704672'],\n",
       "              dtype='datetime64[ns]', freq=None)"
      ]
     },
     "execution_count": 31,
     "metadata": {},
     "output_type": "execute_result"
    }
   ],
   "source": [
    "pd.to_datetime(y_pred_dt)"
   ]
  },
  {
   "cell_type": "markdown",
   "metadata": {},
   "source": [
    "## Random Forest\n",
    "\n"
   ]
  },
  {
   "cell_type": "code",
   "execution_count": 32,
   "metadata": {},
   "outputs": [
    {
     "name": "stderr",
     "output_type": "stream",
     "text": [
      "c:\\Users\\Hp\\anaconda3\\Lib\\site-packages\\sklearn\\base.py:1389: DataConversionWarning: A column-vector y was passed when a 1d array was expected. Please change the shape of y to (n_samples,), for example using ravel().\n",
      "  return fit_method(estimator, *args, **kwargs)\n"
     ]
    },
    {
     "name": "stdout",
     "output_type": "stream",
     "text": [
      "393738.5930434557 \n",
      " 0.9995646220842034\n"
     ]
    }
   ],
   "source": [
    "#implementing the random forest model\n",
    "RandomForest = RandomForestRegressor()\n",
    "RandomForest.fit(X_train, Y_train)\n",
    "\n",
    "y_pred_rf = RandomForest.predict(X_test)\n",
    "\n",
    "#calculating the r2score and mse \n",
    "mse_rf  = mean_squared_error(Y_test, y_pred_rf)\n",
    "rmse_rf = np.sqrt(mse_rf)\n",
    "r2_rf = r2_score(Y_test, y_pred_rf)\n",
    "print(rmse_rf,'\\n',r2_rf)\n",
    " \n"
   ]
  },
  {
   "cell_type": "markdown",
   "metadata": {},
   "source": [
    "## Linear Regression"
   ]
  },
  {
   "cell_type": "code",
   "execution_count": 33,
   "metadata": {},
   "outputs": [
    {
     "name": "stdout",
     "output_type": "stream",
     "text": [
      "0.0 \n",
      " 1.0\n"
     ]
    }
   ],
   "source": [
    "from sklearn.linear_model import LinearRegression\n",
    "#linear regression model\n",
    "Linear_Regression = LinearRegression()\n",
    "\n",
    "Linear_Regression.fit(X_train, Y_train.ravel())\n",
    "y_pred_lr = Linear_Regression.predict(X_test)\n",
    "\n",
    "#calculating the r2score and mse \n",
    "mse_lr  = mean_squared_error(Y_test, y_pred_lr)\n",
    "rmse_lr = np.sqrt(mse_lr)\n",
    "r2_lr = r2_score(Y_test, y_pred_lr)\n",
    "print(rmse_lr,'\\n',r2_lr)"
   ]
  },
  {
   "cell_type": "code",
   "execution_count": 34,
   "metadata": {},
   "outputs": [
    {
     "data": {
      "text/plain": [
       "array(['1970-01-01T00:00:01.694822400', '1970-01-01T00:00:01.658534400',\n",
       "       '1970-01-01T00:00:01.663459200', '1970-01-01T00:00:01.695081600',\n",
       "       '1970-01-01T00:00:01.658102400', '1970-01-01T00:00:01.645833600',\n",
       "       '1970-01-01T00:00:01.660694400', '1970-01-01T00:00:01.656028800',\n",
       "       '1970-01-01T00:00:01.701561600', '1970-01-01T00:00:01.656720000',\n",
       "       '1970-01-01T00:00:01.670716800', '1970-01-01T00:00:01.697068800',\n",
       "       '1970-01-01T00:00:01.657756800', '1970-01-01T00:00:01.695340800',\n",
       "       '1970-01-01T00:00:01.688774400', '1970-01-01T00:00:01.650240000',\n",
       "       '1970-01-01T00:00:01.666915200', '1970-01-01T00:00:01.690070400',\n",
       "       '1970-01-01T00:00:01.647561600', '1970-01-01T00:00:01.665878400',\n",
       "       '1970-01-01T00:00:01.704067200', '1970-01-01T00:00:01.660694400',\n",
       "       '1970-01-01T00:00:01.684022400', '1970-01-01T00:00:01.647302400',\n",
       "       '1970-01-01T00:00:01.698710400', '1970-01-01T00:00:01.646611200',\n",
       "       '1970-01-01T00:00:01.692576000', '1970-01-01T00:00:01.678060800',\n",
       "       '1970-01-01T00:00:01.666828800', '1970-01-01T00:00:01.701388800',\n",
       "       '1970-01-01T00:00:01.647129600', '1970-01-01T00:00:01.650672000',\n",
       "       '1970-01-01T00:00:01.667692800', '1970-01-01T00:00:01.678579200',\n",
       "       '1970-01-01T00:00:01.680480000', '1970-01-01T00:00:01.671840000',\n",
       "       '1970-01-01T00:00:01.682035200', '1970-01-01T00:00:01.643932800',\n",
       "       '1970-01-01T00:00:01.668902400', '1970-01-01T00:00:01.671062400',\n",
       "       '1970-01-01T00:00:01.646352000', '1970-01-01T00:00:01.693785600',\n",
       "       '1970-01-01T00:00:01.700611200', '1970-01-01T00:00:01.645401600',\n",
       "       '1970-01-01T00:00:01.670976000', '1970-01-01T00:00:01.695168000',\n",
       "       '1970-01-01T00:00:01.694649600', '1970-01-01T00:00:01.668211200',\n",
       "       '1970-01-01T00:00:01.691366400', '1970-01-01T00:00:01.673049600',\n",
       "       '1970-01-01T00:00:01.699142400', '1970-01-01T00:00:01.691366400',\n",
       "       '1970-01-01T00:00:01.646784000', '1970-01-01T00:00:01.702857600',\n",
       "       '1970-01-01T00:00:01.662076800', '1970-01-01T00:00:01.662508800',\n",
       "       '1970-01-01T00:00:01.690588800', '1970-01-01T00:00:01.697241600',\n",
       "       '1970-01-01T00:00:01.676592000', '1970-01-01T00:00:01.671494400',\n",
       "       '1970-01-01T00:00:01.650931200', '1970-01-01T00:00:01.697414400',\n",
       "       '1970-01-01T00:00:01.649635200', '1970-01-01T00:00:01.662595200',\n",
       "       '1970-01-01T00:00:01.670889600', '1970-01-01T00:00:01.695945600',\n",
       "       '1970-01-01T00:00:01.681948800', '1970-01-01T00:00:01.646092800',\n",
       "       '1970-01-01T00:00:01.679702400', '1970-01-01T00:00:01.646438400',\n",
       "       '1970-01-01T00:00:01.688947200', '1970-01-01T00:00:01.668038400',\n",
       "       '1970-01-01T00:00:01.667347200', '1970-01-01T00:00:01.686182400',\n",
       "       '1970-01-01T00:00:01.696377600', '1970-01-01T00:00:01.684454400',\n",
       "       '1970-01-01T00:00:01.692144000', '1970-01-01T00:00:01.703116800',\n",
       "       '1970-01-01T00:00:01.669420800', '1970-01-01T00:00:01.686268800',\n",
       "       '1970-01-01T00:00:01.660176000', '1970-01-01T00:00:01.691366400',\n",
       "       '1970-01-01T00:00:01.671840000', '1970-01-01T00:00:01.654128000',\n",
       "       '1970-01-01T00:00:01.651881600', '1970-01-01T00:00:01.675641600',\n",
       "       '1970-01-01T00:00:01.644192000', '1970-01-01T00:00:01.698019200',\n",
       "       '1970-01-01T00:00:01.647388800', '1970-01-01T00:00:01.669939200',\n",
       "       '1970-01-01T00:00:01.643328000', '1970-01-01T00:00:01.688428800',\n",
       "       '1970-01-01T00:00:01.704931200', '1970-01-01T00:00:01.668384000',\n",
       "       '1970-01-01T00:00:01.663545600', '1970-01-01T00:00:01.676246400',\n",
       "       '1970-01-01T00:00:01.693526400', '1970-01-01T00:00:01.658188800',\n",
       "       '1970-01-01T00:00:01.648857600', '1970-01-01T00:00:01.704412800'],\n",
       "      dtype='datetime64[ns]')"
      ]
     },
     "execution_count": 34,
     "metadata": {},
     "output_type": "execute_result"
    }
   ],
   "source": [
    "y_pred_lr = pd.to_datetime(y_pred_lr).to_numpy().flatten()\n",
    "y_pred_lr"
   ]
  },
  {
   "cell_type": "markdown",
   "metadata": {},
   "source": [
    "## Best Model "
   ]
  },
  {
   "cell_type": "code",
   "execution_count": 35,
   "metadata": {},
   "outputs": [
    {
     "name": "stdout",
     "output_type": "stream",
     "text": [
      "[('linear regression', 0.0), ('Random Forest', 393738.5930434557), ('Decision Trees', 508293.48372765904)]\n"
     ]
    }
   ],
   "source": [
    "#Ranking the three models\n",
    "model_rank = {\n",
    "'linear regression' : rmse_lr,\n",
    "'Random Forest' : rmse_rf,\n",
    "'Decision Trees' : rmse_dt\n",
    "}\n",
    "model_rank=sorted(model_rank.items(), key=lambda x: x[1])\n",
    "print (model_rank)\n",
    "\n",
    "#best model is linear regression"
   ]
  },
  {
   "cell_type": "code",
   "execution_count": 36,
   "metadata": {},
   "outputs": [
    {
     "name": "stdout",
     "output_type": "stream",
     "text": [
      "0     1970-01-01\n",
      "1     1970-01-01\n",
      "2     1970-01-01\n",
      "3     1970-01-01\n",
      "4     1970-01-01\n",
      "         ...    \n",
      "95    1970-01-01\n",
      "96    1970-01-01\n",
      "97    1970-01-01\n",
      "98    1970-01-01\n",
      "99    1970-01-01\n",
      "Length: 100, dtype: object\n"
     ]
    }
   ],
   "source": [
    "# Ensure y_pred_lr is a pandas Series\n",
    "y_pred_lr = pd.Series(y_pred_lr)\n",
    "\n",
    "# Convert to datetime while handling errors\n",
    "y_pred_lr = pd.to_datetime(y_pred_lr, errors='coerce')\n",
    "\n",
    "# Extract only the date (YYYY-MM-DD) not the milliseconds\n",
    "y_pred_lr = y_pred_lr.dt.date\n",
    "\n",
    "print(y_pred_lr) # Show first 5 predictions\n"
   ]
  },
  {
   "cell_type": "code",
   "execution_count": 37,
   "metadata": {},
   "outputs": [
    {
     "name": "stdout",
     "output_type": "stream",
     "text": [
      "0     1970-01-01\n",
      "1     1970-01-01\n",
      "2     1970-01-01\n",
      "3     1970-01-01\n",
      "4     1970-01-01\n",
      "         ...    \n",
      "95    1970-01-01\n",
      "96    1970-01-01\n",
      "97    1970-01-01\n",
      "98    1970-01-01\n",
      "99    1970-01-01\n",
      "Length: 100, dtype: object\n"
     ]
    }
   ],
   "source": [
    "#saving the best model (linear regression)\n",
    "import pickle\n",
    "from joblib import load\n",
    "with open('linearmodel.pkl', 'wb') as file:\n",
    "    pickle.dump(Linear_Regression, file)\n",
    "\n",
    "linear_model = load(\"linearmodel.pkl\")\n",
    "prediction= linear_model.predict(X_test)\n",
    "prediction = pd.Series(prediction)\n",
    "prediction = pd.to_datetime(prediction, errors='coerce')\n",
    "prediction = prediction.dt.date\n",
    "print(prediction)   \n",
    "\n"
   ]
  },
  {
   "cell_type": "code",
   "execution_count": 38,
   "metadata": {},
   "outputs": [
    {
     "data": {
      "text/plain": [
       "7"
      ]
     },
     "execution_count": 38,
     "metadata": {},
     "output_type": "execute_result"
    }
   ],
   "source": [
    "data['period_duration'].max()"
   ]
  },
  {
   "cell_type": "code",
   "execution_count": null,
   "metadata": {},
   "outputs": [
    {
     "name": "stdout",
     "output_type": "stream",
     "text": [
      "[1.7024192e+09]\n"
     ]
    },
    {
     "name": "stderr",
     "output_type": "stream",
     "text": [
      "c:\\Users\\Hp\\anaconda3\\Lib\\site-packages\\sklearn\\utils\\validation.py:2739: UserWarning: X does not have valid feature names, but LinearRegression was fitted with feature names\n",
      "  warnings.warn(\n",
      "C:\\Users\\Hp\\AppData\\Local\\Temp\\ipykernel_26892\\383279195.py:7: DeprecationWarning: datetime.datetime.utcfromtimestamp() is deprecated and scheduled for removal in a future version. Use timezone-aware objects to represent datetimes in UTC: datetime.datetime.fromtimestamp(timestamp, datetime.UTC).\n",
      "  output1=  datetime.utcfromtimestamp(output).strftime('%Y-%m-%d')\n"
     ]
    },
    {
     "ename": "TypeError",
     "evalue": "'str' object cannot be interpreted as an integer",
     "output_type": "error",
     "traceback": [
      "\u001b[1;31m---------------------------------------------------------------------------\u001b[0m",
      "\u001b[1;31mTypeError\u001b[0m                                 Traceback (most recent call last)",
      "Cell \u001b[1;32mIn[48], line 7\u001b[0m\n\u001b[0;32m      4\u001b[0m output \u001b[38;5;241m=\u001b[39m \u001b[38;5;28mstr\u001b[39m(output)\n\u001b[0;32m      6\u001b[0m \u001b[38;5;66;03m#output converted to time \u001b[39;00m\n\u001b[1;32m----> 7\u001b[0m output1\u001b[38;5;241m=\u001b[39m  datetime\u001b[38;5;241m.\u001b[39mutcfromtimestamp(output)\u001b[38;5;241m.\u001b[39mstrftime(\u001b[38;5;124m'\u001b[39m\u001b[38;5;124m%\u001b[39m\u001b[38;5;124mY-\u001b[39m\u001b[38;5;124m%\u001b[39m\u001b[38;5;124mm-\u001b[39m\u001b[38;5;132;01m%d\u001b[39;00m\u001b[38;5;124m'\u001b[39m)\n\u001b[0;32m      8\u001b[0m \u001b[38;5;28mprint\u001b[39m(output1)\n",
      "\u001b[1;31mTypeError\u001b[0m: 'str' object cannot be interpreted as an integer"
     ]
    }
   ],
   "source": [
    "\n",
    "from datetime import datetime\n",
    "output = print(Linear_Regression.predict([[1700000000, 28, 5]]))\n",
    "\n",
    "output = int64(output)\n",
    "\n",
    "#output converted to time \n",
    "output1=  datetime.utcfromtimestamp(output).strftime('%Y-%m-%d')\n",
    "print(output1)\n"
   ]
  }
 ],
 "metadata": {
  "kernelspec": {
   "display_name": "base",
   "language": "python",
   "name": "python3"
  },
  "language_info": {
   "codemirror_mode": {
    "name": "ipython",
    "version": 3
   },
   "file_extension": ".py",
   "mimetype": "text/x-python",
   "name": "python",
   "nbconvert_exporter": "python",
   "pygments_lexer": "ipython3",
   "version": "3.12.7"
  }
 },
 "nbformat": 4,
 "nbformat_minor": 2
}
